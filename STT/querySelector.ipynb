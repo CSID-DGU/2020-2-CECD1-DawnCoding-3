{
 "cells": [
  {
   "cell_type": "code",
   "execution_count": 37,
   "metadata": {},
   "outputs": [
    {
     "name": "stdout",
     "output_type": "stream",
     "text": [
      "[['1', '번', '명령어', '입니다'], ['이', '것', '은', '명령어', '2', '번']]\n",
      "85.19\n",
      "17.54\n"
     ]
    },
    {
     "data": {
      "text/plain": [
       "'select * from command1;'"
      ]
     },
     "execution_count": 37,
     "metadata": {},
     "output_type": "execute_result"
    }
   ],
   "source": [
    "import pandas as pd\n",
    "from difflib import SequenceMatcher\n",
    "from konlpy.tag import Okt\n",
    "from jamo import h2j, j2hcj\n",
    "\n",
    "def makeJamo(tokenList):\n",
    "    jamoList = []\n",
    "    \n",
    "    for token in tokenList:\n",
    "        jamoList.append(j2hcj(h2j(token)))\n",
    "        \n",
    "    result = \"\"\n",
    "    for jamo in jamoList:\n",
    "        result += jamo\n",
    "        result += \" \"\n",
    "    return result\n",
    "\n",
    "def querySelector(voice):\n",
    "    df = pd.read_csv(\"C:\\\\Users\\\\jw969\\\\project\\\\2020-2-CECD1-DawnCoding-3\\\\server\\\\src\\\\main\\\\resources\\\\static\\\\command.csv\", encoding='cp949')\n",
    "    df.head()\n",
    "\n",
    "    commandList = df['command'].tolist()\n",
    "    queryList = df['query'].tolist()\n",
    "    \n",
    "    okt = Okt()\n",
    "    tokenizeList = []\n",
    "    tokenizeList.append(okt.morphs(commandList[0]))\n",
    "    tokenizeList.append(okt.morphs(commandList[1]))\n",
    "#     print(tokenizeList)\n",
    "    \n",
    "    index = 0\n",
    "    best_match_rate = 0.0\n",
    "    qa = (makeJamo(voice))\n",
    "    for i, token in enumerate(tokenizeList):\n",
    "        jamo = makeJamo(token)\n",
    "        match_rate = float(f'{SequenceMatcher(None, jamo, qa).ratio()*100:.2f}')\n",
    "#         print(match_rate)\n",
    "        if match_rate > best_match_rate:\n",
    "            best_match_rate = match_rate\n",
    "            index = i\n",
    "    return queryList[index]  \n",
    "    \n",
    "querySelector(\"1번 명령어 입니다\")"
   ]
  },
  {
   "cell_type": "code",
   "execution_count": null,
   "metadata": {},
   "outputs": [],
   "source": []
  }
 ],
 "metadata": {
  "kernelspec": {
   "display_name": "Python 3",
   "language": "python",
   "name": "python3"
  },
  "language_info": {
   "codemirror_mode": {
    "name": "ipython",
    "version": 3
   },
   "file_extension": ".py",
   "mimetype": "text/x-python",
   "name": "python",
   "nbconvert_exporter": "python",
   "pygments_lexer": "ipython3",
   "version": "3.8.1"
  }
 },
 "nbformat": 4,
 "nbformat_minor": 4
}
