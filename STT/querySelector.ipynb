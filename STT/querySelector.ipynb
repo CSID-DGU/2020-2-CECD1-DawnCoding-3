{
 "cells": [
  {
   "cell_type": "code",
   "execution_count": 2,
   "metadata": {},
   "outputs": [
    {
     "name": "stdout",
     "output_type": "stream",
     "text": [
      "[['아날로그', '장치', '들', '의', '상태', '를', '보여줘'], ['디지털', '장비', '의', '상태', '를', '보여줘'], ['온도', '가', '80', '도인', '장비', '들', '을', '보여줘'], ['정상', '장비', '출력']]\n"
     ]
    },
    {
     "data": {
      "text/plain": [
       "\" select *from device where current_status_title='정상'\""
      ]
     },
     "execution_count": 2,
     "metadata": {},
     "output_type": "execute_result"
    }
   ],
   "source": [
    "import pandas as pd\n",
    "from difflib import SequenceMatcher\n",
    "from konlpy.tag import Okt\n",
    "from jamo import h2j, j2hcj\n",
    "\n",
    "def makeJamo(tokenList):\n",
    "    jamoList = []\n",
    "    \n",
    "    for token in tokenList:\n",
    "        jamoList.append(j2hcj(h2j(token)))\n",
    "        \n",
    "    result = \"\"\n",
    "    for jamo in jamoList:\n",
    "        result += jamo\n",
    "        result += \" \"\n",
    "    return result\n",
    "\n",
    "def querySelector(voice):\n",
    "    df = pd.read_csv(\"command.csv\", encoding='utf-8')\n",
    "    df.head()\n",
    "\n",
    "    commandList = df['command'].tolist()\n",
    "    queryList = df['query'].tolist()\n",
    "    \n",
    "    okt = Okt()\n",
    "    tokenizeList = []\n",
    "    for command in commandList:\n",
    "        tokenizeList.append(okt.morphs(command))\n",
    "#     print(tokenizeList)\n",
    "    \n",
    "    index = 0\n",
    "    best_match_rate = 0.0\n",
    "    qa = (makeJamo(voice))\n",
    "    for i, token in enumerate(tokenizeList):\n",
    "        jamo = makeJamo(token)\n",
    "        match_rate = float(f'{SequenceMatcher(None, jamo, qa).ratio()*100:.2f}')\n",
    "#         print(match_rate)\n",
    "        if match_rate > best_match_rate:\n",
    "            best_match_rate = match_rate\n",
    "            index = i\n",
    "    return queryList[index]  \n",
    "    \n",
    "querySelector(\"정상 장비 출력\")"
   ]
  },
  {
   "cell_type": "code",
   "execution_count": null,
   "metadata": {},
   "outputs": [],
   "source": []
  }
 ],
 "metadata": {
  "kernelspec": {
   "display_name": "Python 3",
   "language": "python",
   "name": "python3"
  },
  "language_info": {
   "codemirror_mode": {
    "name": "ipython",
    "version": 3
   },
   "file_extension": ".py",
   "mimetype": "text/x-python",
   "name": "python",
   "nbconvert_exporter": "python",
   "pygments_lexer": "ipython3",
   "version": "3.8.1"
  }
 },
 "nbformat": 4,
 "nbformat_minor": 4
}
