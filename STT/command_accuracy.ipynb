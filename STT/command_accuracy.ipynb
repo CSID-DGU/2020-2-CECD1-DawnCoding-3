{
 "cells": [
  {
   "cell_type": "code",
   "execution_count": 2,
   "metadata": {},
   "outputs": [
    {
     "data": {
      "text/plain": [
       "[['임계', '상태', '를', '초과', '한', '센서', '의', '번호', '를', '알려줘'],\n",
       " ['상한', '값', '초과', '한', '디바이스', '리스트', '를', '알려줘']]"
      ]
     },
     "execution_count": 2,
     "metadata": {},
     "output_type": "execute_result"
    }
   ],
   "source": [
    "from difflib import SequenceMatcher\n",
    "from konlpy.tag import Okt\n",
    "from jamo import h2j, j2hcj\n",
    "\n",
    "queryList = ['임계상태를 초과한 센서의 번호를 알려줘', '상한값 초과한 디바이스 리스트를 알려줘']\n",
    "command = '임계삼대를 조과함 셈서의 벙호를 아려줘'\n",
    "\n",
    "okt = Okt()\n",
    "tokenizeList = []\n",
    "tokenizeList.append(okt.morphs(queryList[0]))\n",
    "tokenizeList.append(okt.morphs(queryList[1]))\n",
    "tokenizeList"
   ]
  },
  {
   "cell_type": "code",
   "execution_count": 3,
   "metadata": {},
   "outputs": [],
   "source": [
    "def makeJamo(tokenList):\n",
    "    jamoList = []\n",
    "    \n",
    "    for token in tokenList:\n",
    "        jamoList.append(j2hcj(h2j(token)))\n",
    "        \n",
    "    result = \"\"\n",
    "    for jamo in jamoList:\n",
    "        result += jamo\n",
    "        result += \" \"\n",
    "    return result"
   ]
  },
  {
   "cell_type": "code",
   "execution_count": 4,
   "metadata": {},
   "outputs": [
    {
     "name": "stdout",
     "output_type": "stream",
     "text": [
      "ㅇㅣㅁㄱㅖ ㅅㅏㅇㅌㅐ ㄹㅡㄹ ㅊㅗㄱㅘ ㅎㅏㄴ ㅅㅔㄴㅅㅓ ㅇㅢ ㅂㅓㄴㅎㅗ ㄹㅡㄹ ㅇㅏㄹㄹㅕㅈㅝ \n",
      "ㅅㅏㅇㅎㅏㄴ ㄱㅏㅄ ㅊㅗㄱㅘ ㅎㅏㄴ ㄷㅣㅂㅏㅇㅣㅅㅡ ㄹㅣㅅㅡㅌㅡ ㄹㅡㄹ ㅇㅏㄹㄹㅕㅈㅝ \n"
     ]
    }
   ],
   "source": [
    "query1 = (makeJamo(tokenizeList[0]))\n",
    "print(query1)\n",
    "query2 = (makeJamo(tokenizeList[1]))\n",
    "print(query2)\n",
    "qa = (makeJamo(command))"
   ]
  },
  {
   "cell_type": "code",
   "execution_count": 6,
   "metadata": {},
   "outputs": [
    {
     "name": "stdout",
     "output_type": "stream",
     "text": [
      "76.27% ㅇㅣㅁㄱㅖ ㅅㅏㅇㅌㅐ ㄹㅡㄹ ㅊㅗㄱㅘ ㅎㅏㄴ ㅅㅔㄴㅅㅓ ㅇㅢ ㅂㅓㄴㅎㅗ ㄹㅡㄹ ㅇㅏㄹㄹㅕㅈㅝ \n",
      "45.61% ㅅㅏㅇㅎㅏㄴ ㄱㅏㅄ ㅊㅗㄱㅘ ㅎㅏㄴ ㄷㅣㅂㅏㅇㅣㅅㅡ ㄹㅣㅅㅡㅌㅡ ㄹㅡㄹ ㅇㅏㄹㄹㅕㅈㅝ \n"
     ]
    }
   ],
   "source": [
    "match_rate = f'{SequenceMatcher(None, query1, qa).ratio()*100:.2f}%'\n",
    "print(match_rate, query1)\n",
    "match_rate = f'{SequenceMatcher(None, query2, qa).ratio()*100:.2f}%'\n",
    "print(match_rate, query2)\n"
   ]
  },
  {
   "cell_type": "code",
   "execution_count": null,
   "metadata": {},
   "outputs": [],
   "source": []
  }
 ],
 "metadata": {
  "kernelspec": {
   "display_name": "Python 3",
   "language": "python",
   "name": "python3"
  },
  "language_info": {
   "codemirror_mode": {
    "name": "ipython",
    "version": 3
   },
   "file_extension": ".py",
   "mimetype": "text/x-python",
   "name": "python",
   "nbconvert_exporter": "python",
   "pygments_lexer": "ipython3",
   "version": "3.8.1"
  }
 },
 "nbformat": 4,
 "nbformat_minor": 4
}
