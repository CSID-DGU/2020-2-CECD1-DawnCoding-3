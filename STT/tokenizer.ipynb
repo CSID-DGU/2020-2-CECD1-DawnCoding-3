{
 "cells": [
  {
   "cell_type": "code",
   "execution_count": 1,
   "metadata": {},
   "outputs": [
    {
     "name": "stderr",
     "output_type": "stream",
     "text": [
      "[nltk_data] Downloading package punkt to\n",
      "[nltk_data]     C:\\Users\\jw969\\AppData\\Roaming\\nltk_data...\n",
      "[nltk_data]   Package punkt is already up-to-date!\n"
     ]
    },
    {
     "data": {
      "text/plain": [
       "True"
      ]
     },
     "execution_count": 1,
     "metadata": {},
     "output_type": "execute_result"
    }
   ],
   "source": [
    "import nltk\n",
    "\n",
    "nltk.download('punkt')"
   ]
  },
  {
   "cell_type": "code",
   "execution_count": 3,
   "metadata": {},
   "outputs": [
    {
     "name": "stdout",
     "output_type": "stream",
     "text": [
      "토큰화:  ['현재', '위험상태인', '센서', '리스트', '보여줘']\n",
      "어간 추출:  ['현재', '위험상태인', '센서', '리스트', '보여줘']\n",
      "불용어 제거:  ['현재', '위험상태인', '센서', '리스트', '보여줘']\n"
     ]
    },
    {
     "name": "stderr",
     "output_type": "stream",
     "text": [
      "[nltk_data] Downloading package stopwords to\n",
      "[nltk_data]     C:\\Users\\jw969\\AppData\\Roaming\\nltk_data...\n",
      "[nltk_data]   Package stopwords is already up-to-date!\n"
     ]
    }
   ],
   "source": [
    "from nltk.tokenize import word_tokenize\n",
    "nltk.download('stopwords')\n",
    "from nltk.corpus import stopwords\n",
    "from nltk.stem import PorterStemmer\n",
    "text = \"현재 위험상태인 센서 리스트 보여줘\"\n",
    "# 토큰화\n",
    "token = word_tokenize(text)\n",
    "print(\"토큰화: \",token)\n",
    "# 어간 추출\n",
    "s = PorterStemmer()\n",
    "stem = [s.stem(t) for t in token]\n",
    "print(\"어간 추출: \",stem)\n",
    "# 불용어 제거\n",
    "result = []\n",
    "stop_words = set(stopwords.words('english'))\n",
    "for s in stem: \n",
    "    if s not in stop_words: \n",
    "        result.append(s) \n",
    "print(\"불용어 제거: \",result)"
   ]
  },
  {
   "cell_type": "code",
   "execution_count": 8,
   "metadata": {},
   "outputs": [
    {
     "name": "stdout",
     "output_type": "stream",
     "text": [
      "['현재', '위험', '상태', '인', '센서', '리스트', '를', '보여줘']\n"
     ]
    }
   ],
   "source": [
    "from konlpy.tag import Okt\n",
    "okt = Okt()\n",
    "text = \"현재 위험상태인 센서 리스트를 보여줘\"\n",
    "print(okt.morphs(text))"
   ]
  },
  {
   "cell_type": "code",
   "execution_count": null,
   "metadata": {},
   "outputs": [],
   "source": []
  }
 ],
 "metadata": {
  "kernelspec": {
   "display_name": "Python 3",
   "language": "python",
   "name": "python3"
  },
  "language_info": {
   "codemirror_mode": {
    "name": "ipython",
    "version": 3
   },
   "file_extension": ".py",
   "mimetype": "text/x-python",
   "name": "python",
   "nbconvert_exporter": "python",
   "pygments_lexer": "ipython3",
   "version": "3.8.1"
  }
 },
 "nbformat": 4,
 "nbformat_minor": 4
}
